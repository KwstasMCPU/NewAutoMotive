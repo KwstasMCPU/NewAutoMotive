{
 "cells": [
  {
   "cell_type": "code",
   "execution_count": 31,
   "metadata": {},
   "outputs": [],
   "source": [
    "#importing libraries\n",
    "import numpy as np\n",
    "import pandas as pd\n",
    "import matplotlib.pyplot as plt\n",
    "import seaborn as sns"
   ]
  },
  {
   "cell_type": "code",
   "execution_count": 32,
   "metadata": {},
   "outputs": [],
   "source": [
    "%matplotlib inline"
   ]
  },
  {
   "cell_type": "code",
   "execution_count": 46,
   "metadata": {},
   "outputs": [],
   "source": [
    "# loading the dataset to a pandas DataFrame object\n",
    "car_df = pd.read_csv('Task_data.csv')"
   ]
  },
  {
   "cell_type": "markdown",
   "metadata": {},
   "source": [
    "## Exploratory Data Analysis"
   ]
  },
  {
   "cell_type": "code",
   "execution_count": 6,
   "metadata": {},
   "outputs": [
    {
     "data": {
      "text/html": [
       "<div>\n",
       "<style scoped>\n",
       "    .dataframe tbody tr th:only-of-type {\n",
       "        vertical-align: middle;\n",
       "    }\n",
       "\n",
       "    .dataframe tbody tr th {\n",
       "        vertical-align: top;\n",
       "    }\n",
       "\n",
       "    .dataframe thead th {\n",
       "        text-align: right;\n",
       "    }\n",
       "</style>\n",
       "<table border=\"1\" class=\"dataframe\">\n",
       "  <thead>\n",
       "    <tr style=\"text-align: right;\">\n",
       "      <th></th>\n",
       "      <th>registrationNumber</th>\n",
       "      <th>fuelType</th>\n",
       "      <th>monthOfFirstRegistration</th>\n",
       "    </tr>\n",
       "  </thead>\n",
       "  <tbody>\n",
       "    <tr>\n",
       "      <th>0</th>\n",
       "      <td>ORZ1598</td>\n",
       "      <td>Diesel</td>\n",
       "      <td>2020-03-01 00:00:00 UTC</td>\n",
       "    </tr>\n",
       "    <tr>\n",
       "      <th>1</th>\n",
       "      <td>ORZ6755</td>\n",
       "      <td>Diesel</td>\n",
       "      <td>2020-03-01 00:00:00 UTC</td>\n",
       "    </tr>\n",
       "    <tr>\n",
       "      <th>2</th>\n",
       "      <td>RGZ3683</td>\n",
       "      <td>Diesel</td>\n",
       "      <td>2020-03-01 00:00:00 UTC</td>\n",
       "    </tr>\n",
       "    <tr>\n",
       "      <th>3</th>\n",
       "      <td>UIG7890</td>\n",
       "      <td>Diesel</td>\n",
       "      <td>2020-03-01 00:00:00 UTC</td>\n",
       "    </tr>\n",
       "    <tr>\n",
       "      <th>4</th>\n",
       "      <td>UIG8424</td>\n",
       "      <td>Diesel</td>\n",
       "      <td>2020-03-01 00:00:00 UTC</td>\n",
       "    </tr>\n",
       "  </tbody>\n",
       "</table>\n",
       "</div>"
      ],
      "text/plain": [
       "  registrationNumber fuelType monthOfFirstRegistration\n",
       "0            ORZ1598   Diesel  2020-03-01 00:00:00 UTC\n",
       "1            ORZ6755   Diesel  2020-03-01 00:00:00 UTC\n",
       "2            RGZ3683   Diesel  2020-03-01 00:00:00 UTC\n",
       "3            UIG7890   Diesel  2020-03-01 00:00:00 UTC\n",
       "4            UIG8424   Diesel  2020-03-01 00:00:00 UTC"
      ]
     },
     "execution_count": 6,
     "metadata": {},
     "output_type": "execute_result"
    }
   ],
   "source": [
    "car_df.head(5)"
   ]
  },
  {
   "cell_type": "code",
   "execution_count": 48,
   "metadata": {},
   "outputs": [],
   "source": [
    "# renaming the column names in order to have a more namining\n",
    "car_df.rename({'registrationNumber':'VRN',\n",
    "              'monthOfFirstRegistration':'first_reg_date'}, \n",
    "              axis=1,\n",
    "             inplace=True)"
   ]
  },
  {
   "cell_type": "code",
   "execution_count": 59,
   "metadata": {},
   "outputs": [
    {
     "name": "stdout",
     "output_type": "stream",
     "text": [
      "<class 'pandas.core.frame.DataFrame'>\n",
      "RangeIndex: 48605 entries, 0 to 48604\n",
      "Data columns (total 3 columns):\n",
      " #   Column          Non-Null Count  Dtype   \n",
      "---  ------          --------------  -----   \n",
      " 0   VRN             48605 non-null  object  \n",
      " 1   fuelType        48605 non-null  category\n",
      " 2   first_reg_date  48605 non-null  object  \n",
      "dtypes: category(1), object(2)\n",
      "memory usage: 807.3+ KB\n"
     ]
    }
   ],
   "source": [
    "car_df.info()"
   ]
  },
  {
   "cell_type": "markdown",
   "metadata": {},
   "source": [
    "We notice that the **first_reg_date** is not a datetime object, we should fix it later"
   ]
  },
  {
   "cell_type": "markdown",
   "metadata": {},
   "source": [
    "#### Missing values"
   ]
  },
  {
   "cell_type": "code",
   "execution_count": 9,
   "metadata": {},
   "outputs": [
    {
     "data": {
      "image/png": "[encoded data removed]",
      "text/plain": [
       "<Figure size 720x288 with 1 Axes>"
      ]
     },
     "metadata": {
      "needs_background": "light"
     },
     "output_type": "display_data"
    }
   ],
   "source": [
    "# the below heatmap depicts any missing value with yellow color\n",
    "fig = plt.figure(figsize=(10,4))\n",
    "ax1 = fig.add_subplot(1,1,1)\n",
    "sns.heatmap(car_df.isnull(),yticklabels=False,cbar=False,cmap='viridis', ax = ax1)\n",
    "ax1.tick_params(axis='x', labelsize=13, rotation = 45)\n",
    "ax1.set_title('car_df missing data', fontsize=15);"
   ]
  },
  {
   "cell_type": "code",
   "execution_count": 10,
   "metadata": {},
   "outputs": [
    {
     "data": {
      "text/plain": [
       "VRN               0\n",
       "fuelType          0\n",
       "first_reg_date    0\n",
       "dtype: int64"
      ]
     },
     "execution_count": 10,
     "metadata": {},
     "output_type": "execute_result"
    }
   ],
   "source": [
    "car_df.isnull().sum()"
   ]
  },
  {
   "cell_type": "markdown",
   "metadata": {},
   "source": [
    "**There are no missing values in the dataset**"
   ]
  },
  {
   "cell_type": "markdown",
   "metadata": {},
   "source": [
    "#### Duplicated values"
   ]
  },
  {
   "cell_type": "code",
   "execution_count": 11,
   "metadata": {},
   "outputs": [
    {
     "data": {
      "text/plain": [
       "0"
      ]
     },
     "execution_count": 11,
     "metadata": {},
     "output_type": "execute_result"
    }
   ],
   "source": [
    "car_df.duplicated(keep=False).sum() \n",
    "# the dataframe.duplicated() method returns a boolean series denoting the duplicate rows\n",
    "# the keep argument determines which duplicates to mark, keep=False marks all duplicate rows as TRUE, whule keep='first' mark duplicates as True except for the first occurrence\n",
    "# https://pandas.pydata.org/pandas-docs/stable/reference/api/pandas.DataFrame.duplicated.html"
   ]
  },
  {
   "cell_type": "markdown",
   "metadata": {},
   "source": [
    "**All rows are unique**"
   ]
  },
  {
   "cell_type": "markdown",
   "metadata": {},
   "source": [
    "### Registration Number feature"
   ]
  },
  {
   "cell_type": "code",
   "execution_count": 12,
   "metadata": {},
   "outputs": [
    {
     "data": {
      "text/plain": [
       "0"
      ]
     },
     "execution_count": 12,
     "metadata": {},
     "output_type": "execute_result"
    }
   ],
   "source": [
    "car_df.VRN.duplicated(keep=False).sum() "
   ]
  },
  {
   "cell_type": "code",
   "execution_count": 72,
   "metadata": {},
   "outputs": [],
   "source": [
    "# according to wiki page the 2nd and 3rd letter indicate the area within Northern Ireland where the vehicle was registered. \n",
    "# we are going to extract those letters"
   ]
  },
  {
   "cell_type": "code",
   "execution_count": null,
   "metadata": {},
   "outputs": [],
   "source": []
  },
  {
   "cell_type": "markdown",
   "metadata": {},
   "source": [
    "All the cars are unique"
   ]
  },
  {
   "cell_type": "code",
   "execution_count": 71,
   "metadata": {},
   "outputs": [
    {
     "data": {
      "text/plain": [
       "0        ORZ1598\n",
       "1        ORZ6755\n",
       "2        RGZ3683\n",
       "3        UIG7890\n",
       "4        UIG8424\n",
       "          ...   \n",
       "48600    TGZ6547\n",
       "48601    TGZ6921\n",
       "48602    XUI8829\n",
       "48603    YHZ1381\n",
       "48604    YHZ2132\n",
       "Name: VRN, Length: 48605, dtype: object"
      ]
     },
     "execution_count": 71,
     "metadata": {},
     "output_type": "execute_result"
    }
   ],
   "source": [
    "car_df.VRN"
   ]
  },
  {
   "cell_type": "markdown",
   "metadata": {},
   "source": [
    "### Fuel type feature"
   ]
  },
  {
   "cell_type": "code",
   "execution_count": 13,
   "metadata": {},
   "outputs": [
    {
     "data": {
      "text/plain": [
       "Petrol           23683\n",
       "Diesel           16833\n",
       "Hybrid            6098\n",
       "Pure electric     1937\n",
       "Gas                 54\n",
       "Name: fuelType, dtype: int64"
      ]
     },
     "execution_count": 13,
     "metadata": {},
     "output_type": "execute_result"
    }
   ],
   "source": [
    "car_df.fuelType.value_counts()"
   ]
  },
  {
   "cell_type": "code",
   "execution_count": 58,
   "metadata": {},
   "outputs": [],
   "source": [
    "# switching the fuel column type to a category type for better memory optimization\n",
    "car_df.fuelType = car_df.fuelType.astype('category')"
   ]
  },
  {
   "cell_type": "code",
   "execution_count": null,
   "metadata": {},
   "outputs": [],
   "source": [
    ", color=['#3548db','#09ede6','#41e02f','#e84427']"
   ]
  },
  {
   "cell_type": "code",
   "execution_count": 37,
   "metadata": {},
   "outputs": [
    {
     "name": "stderr",
     "output_type": "stream",
     "text": [
      "<ipython-input-37-5d6de824e33f>:14: UserWarning: FixedFormatter should only be used together with FixedLocator\n",
      "  ax2.set_yticklabels(['{:.0%}'.format(x) for x in ax2.get_yticks()])\n"
     ]
    },
    {
     "data": {
      "image/png": "[encoded data removed]",
      "text/plain": [
       "<Figure size 1296x576 with 2 Axes>"
      ]
     },
     "metadata": {
      "needs_background": "light"
     },
     "output_type": "display_data"
    }
   ],
   "source": [
    "fig, axes = plt.subplots(1,2,figsize=(18,8))\n",
    "ax1 = sns.countplot(x = 'fuelType', \n",
    "                    data = car_df, \n",
    "                    order = car_df.fuelType.value_counts().index, # ordering the bars based on their count (most common type is ordered first)\n",
    "                    ax = axes[0])\n",
    "ax1.set_title('Fuel types...')\n",
    "#####\n",
    "ax2 = (car_df.fuelType.value_counts() / len(car_df)).plot(kind='bar', \n",
    "                                                          width = 0.85, \n",
    "                                                          ax=axes[1])\n",
    "ax2.set_title('Share of Fuel Type', fontsize=16)\n",
    "#ax2.set_xticklabels(labels=['A','B','C','D'],rotation = 'horizontal')\n",
    "ax2.set_ylabel('Percentage %', fontsize=15)\n",
    "ax2.set_yticklabels(['{:.0%}'.format(x) for x in ax2.get_yticks()])\n",
    "ax2.tick_params(labelsize=14);"
   ]
  },
  {
   "cell_type": "code",
   "execution_count": 17,
   "metadata": {},
   "outputs": [
    {
     "name": "stderr",
     "output_type": "stream",
     "text": [
      "<ipython-input-17-3ae88f3969a0>:3: MatplotlibDeprecationWarning: normalize=None does not normalize if the sum is less than 1 but this behavior is deprecated since 3.3 until two minor releases later. After the deprecation period the default value will be normalize=True. To prevent normalization pass normalize=False \n",
      "  patches, texts, autotexts = ax1.pie((car_df.fuelType.value_counts() / len(car_df)),\n"
     ]
    },
    {
     "data": {
      "image/png": "[encoded data removed]",
      "text/plain": [
       "<Figure size 432x288 with 1 Axes>"
      ]
     },
     "metadata": {},
     "output_type": "display_data"
    }
   ],
   "source": [
    "# credits to Kevin Amipara https://medium.com/@kvnamipara/a-better-visualisation-of-pie-charts-by-matplotlib-935b7667d77f\n",
    "fig1, ax1 = plt.subplots()\n",
    "patches, texts, autotexts = ax1.pie((car_df.fuelType.value_counts() / len(car_df)),\n",
    "                                    autopct='%.1f%%', \n",
    "                                    labels = None,\n",
    "                                    textprops={'fontsize': 13})\n",
    "ax1.set_title('Share of Fuel types', fontsize=15)\n",
    "ax1.legend(title='Port', labels=['Petrol','Diesel','Hybrid','Pure electric','Gas'])\n",
    "# just drawing a white circle in the center to create the \"donut effect\"\n",
    "centre_circle = plt.Circle((0,0),0.75,fc='white')\n",
    "fig = plt.gcf()\n",
    "fig.gca().add_artist(centre_circle)\n",
    "# Equal aspect ratio ensures that pie is drawn as a circle\n",
    "ax1.axis('equal')  \n",
    "plt.tight_layout()"
   ]
  },
  {
   "cell_type": "markdown",
   "metadata": {},
   "source": [
    "### Date of registration Number"
   ]
  },
  {
   "cell_type": "code",
   "execution_count": 38,
   "metadata": {},
   "outputs": [
    {
     "data": {
      "text/plain": [
       "array(['2020-03-01 00:00:00 UTC', '2020-04-01 00:00:00 UTC',\n",
       "       '2020-05-01 00:00:00 UTC', '2020-06-01 00:00:00 UTC',\n",
       "       '2020-07-01 00:00:00 UTC', '2020-08-01 00:00:00 UTC',\n",
       "       '2020-09-01 00:00:00 UTC', '2020-10-01 00:00:00 UTC',\n",
       "       '2020-11-01 00:00:00 UTC', '2020-12-01 00:00:00 UTC',\n",
       "       '2021-01-01 00:00:00 UTC', '2021-02-01 00:00:00 UTC',\n",
       "       '2021-03-01 00:00:00 UTC'], dtype=object)"
      ]
     },
     "execution_count": 38,
     "metadata": {},
     "output_type": "execute_result"
    }
   ],
   "source": [
    "car_df.first_reg_date.unique()"
   ]
  },
  {
   "cell_type": "code",
   "execution_count": 55,
   "metadata": {},
   "outputs": [],
   "source": [
    "car_df.first_reg_date = car_df.first_reg_date.dt.date"
   ]
  },
  {
   "cell_type": "code",
   "execution_count": 68,
   "metadata": {},
   "outputs": [],
   "source": [
    "car_df['date'] = pd.to_datetime(car_df.first_reg_date, format='%Y-%m-%d')\n",
    "# was having an error when trying to convert the whole string to a date in a YYYY-MM-DD format using the pd.to_datetime(car_df.first_reg_date, format=%Y-%m-%d)\n",
    "# thus i firstly used the .dt.date to first access just the date component and then convert it into a datetime64 object"
   ]
  },
  {
   "cell_type": "code",
   "execution_count": 69,
   "metadata": {},
   "outputs": [
    {
     "data": {
      "text/plain": [
       "0       2020-03-01\n",
       "1       2020-03-01\n",
       "2       2020-03-01\n",
       "3       2020-03-01\n",
       "4       2020-03-01\n",
       "           ...    \n",
       "48600   2021-03-01\n",
       "48601   2021-03-01\n",
       "48602   2021-03-01\n",
       "48603   2021-03-01\n",
       "48604   2021-03-01\n",
       "Name: first_reg_date, Length: 48605, dtype: datetime64[ns]"
      ]
     },
     "execution_count": 69,
     "metadata": {},
     "output_type": "execute_result"
    }
   ],
   "source": [
    "car_df.first_reg_date"
   ]
  },
  {
   "cell_type": "code",
   "execution_count": 70,
   "metadata": {},
   "outputs": [
    {
     "data": {
      "image/png": "[encoded data removed]",
      "text/plain": [
       "<Figure size 720x720 with 1 Axes>"
      ]
     },
     "metadata": {
      "needs_background": "light"
     },
     "output_type": "display_data"
    }
   ],
   "source": [
    "fig = plt.figure(figsize=(10,10))\n",
    "sns.countplot(x='date', data=car_df)\n",
    "plt.xticks(rotation=45, ha='right');"
   ]
  },
  {
   "cell_type": "code",
   "execution_count": null,
   "metadata": {},
   "outputs": [],
   "source": []
  }
 ],
 "metadata": {
  "kernelspec": {
   "display_name": "new_auto_venv",
   "language": "python",
   "name": "new_auto_venv"
  },
  "language_info": {
   "codemirror_mode": {
    "name": "ipython",
    "version": 3
   },
   "file_extension": ".py",
   "mimetype": "text/x-python",
   "name": "python",
   "nbconvert_exporter": "python",
   "pygments_lexer": "ipython3",
   "version": "3.9.1"
  }
 },
 "nbformat": 4,
 "nbformat_minor": 4
}
