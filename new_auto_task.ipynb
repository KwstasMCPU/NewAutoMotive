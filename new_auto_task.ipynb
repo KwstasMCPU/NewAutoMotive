{
 "cells": [
  {
   "cell_type": "code",
   "execution_count": 1,
   "metadata": {},
   "outputs": [],
   "source": [
    "#importing libraries\n",
    "import numpy as np\n",
    "import pandas as pd\n",
    "import matplotlib.pyplot as plt\n",
    "import seaborn as sns"
   ]
  },
  {
   "cell_type": "code",
   "execution_count": 2,
   "metadata": {},
   "outputs": [],
   "source": [
    "%matplotlib inline"
   ]
  },
  {
   "cell_type": "code",
   "execution_count": 3,
   "metadata": {},
   "outputs": [],
   "source": [
    "# showing all columns\n",
    "pd.set_option('display.max_columns', None)"
   ]
  },
  {
   "cell_type": "code",
   "execution_count": 4,
   "metadata": {},
   "outputs": [],
   "source": [
    "# loading the dataset to a pandas DataFrame object\n",
    "car_df = pd.read_csv('Task_data.csv')"
   ]
  },
  {
   "cell_type": "markdown",
   "metadata": {},
   "source": [
    "## Exploratory Data Analysis"
   ]
  },
  {
   "cell_type": "code",
   "execution_count": 5,
   "metadata": {},
   "outputs": [
    {
     "data": {
      "text/html": [
       "<div>\n",
       "<style scoped>\n",
       "    .dataframe tbody tr th:only-of-type {\n",
       "        vertical-align: middle;\n",
       "    }\n",
       "\n",
       "    .dataframe tbody tr th {\n",
       "        vertical-align: top;\n",
       "    }\n",
       "\n",
       "    .dataframe thead th {\n",
       "        text-align: right;\n",
       "    }\n",
       "</style>\n",
       "<table border=\"1\" class=\"dataframe\">\n",
       "  <thead>\n",
       "    <tr style=\"text-align: right;\">\n",
       "      <th></th>\n",
       "      <th>registrationNumber</th>\n",
       "      <th>fuelType</th>\n",
       "      <th>monthOfFirstRegistration</th>\n",
       "    </tr>\n",
       "  </thead>\n",
       "  <tbody>\n",
       "    <tr>\n",
       "      <th>0</th>\n",
       "      <td>ORZ1598</td>\n",
       "      <td>Diesel</td>\n",
       "      <td>2020-03-01 00:00:00 UTC</td>\n",
       "    </tr>\n",
       "    <tr>\n",
       "      <th>1</th>\n",
       "      <td>ORZ6755</td>\n",
       "      <td>Diesel</td>\n",
       "      <td>2020-03-01 00:00:00 UTC</td>\n",
       "    </tr>\n",
       "    <tr>\n",
       "      <th>2</th>\n",
       "      <td>RGZ3683</td>\n",
       "      <td>Diesel</td>\n",
       "      <td>2020-03-01 00:00:00 UTC</td>\n",
       "    </tr>\n",
       "    <tr>\n",
       "      <th>3</th>\n",
       "      <td>UIG7890</td>\n",
       "      <td>Diesel</td>\n",
       "      <td>2020-03-01 00:00:00 UTC</td>\n",
       "    </tr>\n",
       "    <tr>\n",
       "      <th>4</th>\n",
       "      <td>UIG8424</td>\n",
       "      <td>Diesel</td>\n",
       "      <td>2020-03-01 00:00:00 UTC</td>\n",
       "    </tr>\n",
       "  </tbody>\n",
       "</table>\n",
       "</div>"
      ],
      "text/plain": [
       "  registrationNumber fuelType monthOfFirstRegistration\n",
       "0            ORZ1598   Diesel  2020-03-01 00:00:00 UTC\n",
       "1            ORZ6755   Diesel  2020-03-01 00:00:00 UTC\n",
       "2            RGZ3683   Diesel  2020-03-01 00:00:00 UTC\n",
       "3            UIG7890   Diesel  2020-03-01 00:00:00 UTC\n",
       "4            UIG8424   Diesel  2020-03-01 00:00:00 UTC"
      ]
     },
     "execution_count": 5,
     "metadata": {},
     "output_type": "execute_result"
    }
   ],
   "source": [
    "car_df.head(5)"
   ]
  },
  {
   "cell_type": "code",
   "execution_count": 6,
   "metadata": {},
   "outputs": [],
   "source": [
    "# renaming the column names in order to have a more namining\n",
    "car_df.rename({'registrationNumber':'VRN',\n",
    "              'monthOfFirstRegistration':'first_reg_date'}, \n",
    "              axis=1,\n",
    "             inplace=True)"
   ]
  },
  {
   "cell_type": "code",
   "execution_count": 7,
   "metadata": {},
   "outputs": [
    {
     "name": "stdout",
     "output_type": "stream",
     "text": [
      "<class 'pandas.core.frame.DataFrame'>\n",
      "RangeIndex: 48605 entries, 0 to 48604\n",
      "Data columns (total 3 columns):\n",
      " #   Column          Non-Null Count  Dtype \n",
      "---  ------          --------------  ----- \n",
      " 0   VRN             48605 non-null  object\n",
      " 1   fuelType        48605 non-null  object\n",
      " 2   first_reg_date  48605 non-null  object\n",
      "dtypes: object(3)\n",
      "memory usage: 1.1+ MB\n"
     ]
    }
   ],
   "source": [
    "car_df.info()"
   ]
  },
  {
   "cell_type": "markdown",
   "metadata": {},
   "source": [
    "We notice that the **first_reg_date** is not a datetime object, we should fix it later"
   ]
  },
  {
   "cell_type": "code",
   "execution_count": 9,
   "metadata": {},
   "outputs": [
    {
     "data": {
      "text/plain": [
       "Index(['Petrol', 'Diesel', 'Hybrid', 'Pure electric', 'Gas'], dtype='object')"
      ]
     },
     "execution_count": 9,
     "metadata": {},
     "output_type": "execute_result"
    }
   ],
   "source": [
    "car_df.fuelType.value_counts().index"
   ]
  },
  {
   "cell_type": "markdown",
   "metadata": {},
   "source": [
    "This sample data set, consists of **48,605** rows and **3** columns. Its information is about about vehicles registered in Northern Ireland from March 2020 to March 2021.<br>more analytically:\n",
    "\n",
    "1. **VRN**: Refers to the Vehicle Registration Number of the vehicle. From it we can derive information about where the vehicle was registered.\n",
    "2. **fuelType**: Refers to the vehicle's fuel type (Petrol, Diesel, Hybrid, Pure electric, Gas).\n",
    "3. **first_reg_date**: Refers to the date the vehicle was first registered ."
   ]
  },
  {
   "cell_type": "markdown",
   "metadata": {},
   "source": [
    "#### Missing values"
   ]
  },
  {
   "cell_type": "code",
   "execution_count": 11,
   "metadata": {},
   "outputs": [
    {
     "data": {
      "image/png": "[encoded data removed]",
      "text/plain": [
       "<Figure size 720x288 with 1 Axes>"
      ]
     },
     "metadata": {
      "needs_background": "light"
     },
     "output_type": "display_data"
    }
   ],
   "source": [
    "# the below heatmap depicts any missing value with yellow color\n",
    "fig = plt.figure(figsize=(10,4))\n",
    "ax1 = fig.add_subplot(1,1,1)\n",
    "sns.heatmap(car_df.isnull(),yticklabels=False,cbar=False,cmap='viridis', ax = ax1)\n",
    "ax1.tick_params(axis='x', labelsize=13, rotation = 45)\n",
    "ax1.set_title('car_df missing data', fontsize=15);"
   ]
  },
  {
   "cell_type": "code",
   "execution_count": 12,
   "metadata": {},
   "outputs": [
    {
     "data": {
      "text/plain": [
       "VRN               0\n",
       "fuelType          0\n",
       "first_reg_date    0\n",
       "dtype: int64"
      ]
     },
     "execution_count": 12,
     "metadata": {},
     "output_type": "execute_result"
    }
   ],
   "source": [
    "car_df.isnull().sum()"
   ]
  },
  {
   "cell_type": "markdown",
   "metadata": {},
   "source": [
    "**There are no missing values in the dataset**"
   ]
  },
  {
   "cell_type": "markdown",
   "metadata": {},
   "source": [
    "#### Duplicated values"
   ]
  },
  {
   "cell_type": "code",
   "execution_count": 13,
   "metadata": {},
   "outputs": [
    {
     "data": {
      "text/plain": [
       "0"
      ]
     },
     "execution_count": 13,
     "metadata": {},
     "output_type": "execute_result"
    }
   ],
   "source": [
    "car_df.duplicated(keep=False).sum() \n",
    "# the dataframe.duplicated() method returns a boolean series denoting the duplicate rows\n",
    "# the keep argument determines which duplicates to mark, keep=False marks all duplicate rows as TRUE, whule keep='first' mark duplicates as True except for the first occurrence\n",
    "# https://pandas.pydata.org/pandas-docs/stable/reference/api/pandas.DataFrame.duplicated.html"
   ]
  },
  {
   "cell_type": "markdown",
   "metadata": {},
   "source": [
    "**All rows are unique**"
   ]
  },
  {
   "cell_type": "markdown",
   "metadata": {},
   "source": [
    "### Registration Number feature"
   ]
  },
  {
   "cell_type": "code",
   "execution_count": 14,
   "metadata": {},
   "outputs": [
    {
     "data": {
      "text/plain": [
       "0"
      ]
     },
     "execution_count": 14,
     "metadata": {},
     "output_type": "execute_result"
    }
   ],
   "source": [
    "car_df.VRN.duplicated(keep=False).sum() "
   ]
  },
  {
   "cell_type": "markdown",
   "metadata": {},
   "source": [
    "All the cars are unique"
   ]
  },
  {
   "cell_type": "code",
   "execution_count": 15,
   "metadata": {},
   "outputs": [],
   "source": [
    "# according to wiki page the 2nd and 3rd letter indicate the area within Northern Ireland where the vehicle was registered. \n",
    "# we are going to extract those letters"
   ]
  },
  {
   "cell_type": "code",
   "execution_count": 16,
   "metadata": {},
   "outputs": [],
   "source": [
    "car_df['country_code'] = car_df.VRN.apply(lambda x: x[1:3])"
   ]
  },
  {
   "cell_type": "code",
   "execution_count": 19,
   "metadata": {},
   "outputs": [
    {
     "data": {
      "text/plain": [
       "CategoricalIndex(['AZ', 'BZ', 'CZ', 'DZ', 'EZ', 'FZ', 'GZ', 'HZ', 'IA', 'IB',\n",
       "                  'IG', 'IJ', 'IL', 'IW', 'JI', 'JZ', 'KZ', 'LZ', 'NZ', 'OI',\n",
       "                  'RZ', 'SZ', 'UI', 'XI', 'XZ', 'YZ'],\n",
       "                 categories=['AZ', 'BZ', 'CZ', 'DZ', 'EZ', 'FZ', 'GZ', 'HZ', ...], ordered=False, dtype='category')"
      ]
     },
     "execution_count": 19,
     "metadata": {},
     "output_type": "execute_result"
    }
   ],
   "source": [
    "car_df['country_code'].value_counts().index.sort_values()"
   ]
  },
  {
   "cell_type": "code",
   "execution_count": 21,
   "metadata": {},
   "outputs": [],
   "source": [
    "country_code_dict = {'AZ':'Belfast', \n",
    "                     'BZ':'Down', \n",
    "                     'CZ':'Belfast', \n",
    "                     'DZ':'Antrim', \n",
    "                     'EZ':'Belfast', \n",
    "                     'FZ':'Belfast', \n",
    "                     'GZ':'Belfast', \n",
    "                     'HZ':'Tyrone', \n",
    "                     'IA':'Antrim', \n",
    "                     'IB':'Armagh',\n",
    "                     'IG':'Fermanagh', \n",
    "                     'IJ':'Down', \n",
    "                     'IL':'Fermanagh', \n",
    "                     'IW':'County Londonderry', \n",
    "                     'JI':'Tyrone', \n",
    "                     'JZ':'Down', \n",
    "                     'KZ':'Antrim', \n",
    "                     'LZ':'Armagh', \n",
    "                     'NZ':'County Londonderry', \n",
    "                     'OI':'Belfast',\n",
    "                     'RZ':'Antrim', \n",
    "                     'SZ':'Down', \n",
    "                     'UI':'City of Londonderry', \n",
    "                     'XI':'Belfast', \n",
    "                     'XZ':'Armagh', \n",
    "                     'YZ':'County Londonderry'}"
   ]
  },
  {
   "cell_type": "code",
   "execution_count": 23,
   "metadata": {},
   "outputs": [],
   "source": [
    "car_df['country_code'] = car_df['country_code'].replace(country_code_dict)"
   ]
  },
  {
   "cell_type": "code",
   "execution_count": 25,
   "metadata": {},
   "outputs": [],
   "source": [
    "car_df['country_code'] = car_df['country_code'].astype('category')"
   ]
  },
  {
   "cell_type": "code",
   "execution_count": 24,
   "metadata": {},
   "outputs": [
    {
     "data": {
      "image/png": "[encoded data removed]",
      "text/plain": [
       "<Figure size 720x720 with 1 Axes>"
      ]
     },
     "metadata": {
      "needs_background": "light"
     },
     "output_type": "display_data"
    }
   ],
   "source": [
    "fig = plt.figure(figsize=(10,10))\n",
    "sns.countplot(x='country_code', data=car_df, order=car_df.country_code.value_counts().index)\n",
    "plt.xticks(rotation=45, ha='right');"
   ]
  },
  {
   "cell_type": "code",
   "execution_count": 17,
   "metadata": {},
   "outputs": [],
   "source": [
    "# now we will try to replace the country codes to the full country name"
   ]
  },
  {
   "cell_type": "markdown",
   "metadata": {},
   "source": [
    "### Fuel type feature"
   ]
  },
  {
   "cell_type": "code",
   "execution_count": 26,
   "metadata": {},
   "outputs": [
    {
     "data": {
      "text/plain": [
       "Petrol           23683\n",
       "Diesel           16833\n",
       "Hybrid            6098\n",
       "Pure electric     1937\n",
       "Gas                 54\n",
       "Name: fuelType, dtype: int64"
      ]
     },
     "execution_count": 26,
     "metadata": {},
     "output_type": "execute_result"
    }
   ],
   "source": [
    "car_df.fuelType.value_counts()"
   ]
  },
  {
   "cell_type": "code",
   "execution_count": 23,
   "metadata": {},
   "outputs": [],
   "source": [
    "# switching the fuel column type to a category type for better memory optimization\n",
    "car_df.fuelType = car_df.fuelType.astype('category')"
   ]
  },
  {
   "cell_type": "code",
   "execution_count": null,
   "metadata": {},
   "outputs": [],
   "source": [
    ", color=['#3548db','#09ede6','#41e02f','#e84427']"
   ]
  },
  {
   "cell_type": "code",
   "execution_count": 27,
   "metadata": {},
   "outputs": [
    {
     "name": "stderr",
     "output_type": "stream",
     "text": [
      "<ipython-input-27-5d6de824e33f>:14: UserWarning: FixedFormatter should only be used together with FixedLocator\n",
      "  ax2.set_yticklabels(['{:.0%}'.format(x) for x in ax2.get_yticks()])\n"
     ]
    },
    {
     "data": {
      "image/png": "[encoded data removed]",
      "text/plain": [
       "<Figure size 1296x576 with 2 Axes>"
      ]
     },
     "metadata": {
      "needs_background": "light"
     },
     "output_type": "display_data"
    }
   ],
   "source": [
    "fig, axes = plt.subplots(1,2,figsize=(18,8))\n",
    "ax1 = sns.countplot(x = 'fuelType', \n",
    "                    data = car_df, \n",
    "                    order = car_df.fuelType.value_counts().index, # ordering the bars based on their count (most common type is ordered first)\n",
    "                    ax = axes[0])\n",
    "ax1.set_title('Fuel types...')\n",
    "#####\n",
    "ax2 = (car_df.fuelType.value_counts() / len(car_df)).plot(kind='bar', \n",
    "                                                          width = 0.85, \n",
    "                                                          ax=axes[1])\n",
    "ax2.set_title('Share of Fuel Type', fontsize=16)\n",
    "#ax2.set_xticklabels(labels=['A','B','C','D'],rotation = 'horizontal')\n",
    "ax2.set_ylabel('Percentage %', fontsize=15)\n",
    "ax2.set_yticklabels(['{:.0%}'.format(x) for x in ax2.get_yticks()])\n",
    "ax2.tick_params(labelsize=14);"
   ]
  },
  {
   "cell_type": "code",
   "execution_count": 28,
   "metadata": {},
   "outputs": [
    {
     "name": "stderr",
     "output_type": "stream",
     "text": [
      "<ipython-input-28-3ae88f3969a0>:3: MatplotlibDeprecationWarning: normalize=None does not normalize if the sum is less than 1 but this behavior is deprecated since 3.3 until two minor releases later. After the deprecation period the default value will be normalize=True. To prevent normalization pass normalize=False \n",
      "  patches, texts, autotexts = ax1.pie((car_df.fuelType.value_counts() / len(car_df)),\n"
     ]
    },
    {
     "data": {
      "image/png": "[encoded data removed]",
      "text/plain": [
       "<Figure size 432x288 with 1 Axes>"
      ]
     },
     "metadata": {},
     "output_type": "display_data"
    }
   ],
   "source": [
    "# credits to Kevin Amipara https://medium.com/@kvnamipara/a-better-visualisation-of-pie-charts-by-matplotlib-935b7667d77f\n",
    "fig1, ax1 = plt.subplots()\n",
    "patches, texts, autotexts = ax1.pie((car_df.fuelType.value_counts() / len(car_df)),\n",
    "                                    autopct='%.1f%%', \n",
    "                                    labels = None,\n",
    "                                    textprops={'fontsize': 13})\n",
    "ax1.set_title('Share of Fuel types', fontsize=15)\n",
    "ax1.legend(title='Port', labels=['Petrol','Diesel','Hybrid','Pure electric','Gas'])\n",
    "# just drawing a white circle in the center to create the \"donut effect\"\n",
    "centre_circle = plt.Circle((0,0),0.75,fc='white')\n",
    "fig = plt.gcf()\n",
    "fig.gca().add_artist(centre_circle)\n",
    "# Equal aspect ratio ensures that pie is drawn as a circle\n",
    "ax1.axis('equal')  \n",
    "plt.tight_layout()"
   ]
  },
  {
   "cell_type": "markdown",
   "metadata": {},
   "source": [
    "### Date of registration Number"
   ]
  },
  {
   "cell_type": "code",
   "execution_count": 24,
   "metadata": {},
   "outputs": [
    {
     "data": {
      "text/plain": [
       "array(['2020-03-01 00:00:00 UTC', '2020-04-01 00:00:00 UTC',\n",
       "       '2020-05-01 00:00:00 UTC', '2020-06-01 00:00:00 UTC',\n",
       "       '2020-07-01 00:00:00 UTC', '2020-08-01 00:00:00 UTC',\n",
       "       '2020-09-01 00:00:00 UTC', '2020-10-01 00:00:00 UTC',\n",
       "       '2020-11-01 00:00:00 UTC', '2020-12-01 00:00:00 UTC',\n",
       "       '2021-01-01 00:00:00 UTC', '2021-02-01 00:00:00 UTC',\n",
       "       '2021-03-01 00:00:00 UTC'], dtype=object)"
      ]
     },
     "execution_count": 24,
     "metadata": {},
     "output_type": "execute_result"
    }
   ],
   "source": [
    "car_df.first_reg_date.unique()"
   ]
  },
  {
   "cell_type": "code",
   "execution_count": 29,
   "metadata": {},
   "outputs": [],
   "source": [
    "import datetime"
   ]
  },
  {
   "cell_type": "code",
   "execution_count": 30,
   "metadata": {},
   "outputs": [],
   "source": [
    "car_df['date'] = car_df.first_reg_date.apply(lambda x: x[:10])"
   ]
  },
  {
   "cell_type": "code",
   "execution_count": 39,
   "metadata": {},
   "outputs": [],
   "source": [
    "car_df['date'] = car_df['date'].apply(lambda x: datetime.datetime.strptime(x, '%Y-%m-%d'))"
   ]
  },
  {
   "cell_type": "code",
   "execution_count": 73,
   "metadata": {},
   "outputs": [
    {
     "data": {
      "text/plain": [
       "array(['2020-03-01', '2020-04-01', '2020-05-01', '2020-06-01',\n",
       "       '2020-07-01', '2020-08-01', '2020-09-01', '2020-10-01',\n",
       "       '2020-11-01', '2020-12-01', '2021-01-01', '2021-02-01',\n",
       "       '2021-03-01'], dtype=object)"
      ]
     },
     "execution_count": 73,
     "metadata": {},
     "output_type": "execute_result"
    }
   ],
   "source": [
    "car_df['date'].unique()"
   ]
  },
  {
   "cell_type": "code",
   "execution_count": 68,
   "metadata": {},
   "outputs": [],
   "source": [
    "car_df['date'] = pd.to_datetime(car_df.first_reg_date, format='%Y-%m-%d')\n",
    "# was having an error when trying to convert the whole string to a date in a YYYY-MM-DD format using the pd.to_datetime(car_df.first_reg_date, format=%Y-%m-%d)\n",
    "# thus i firstly used the .dt.date to first access just the date component and then convert it into a datetime64 object"
   ]
  },
  {
   "cell_type": "code",
   "execution_count": 69,
   "metadata": {},
   "outputs": [
    {
     "data": {
      "text/plain": [
       "0       2020-03-01\n",
       "1       2020-03-01\n",
       "2       2020-03-01\n",
       "3       2020-03-01\n",
       "4       2020-03-01\n",
       "           ...    \n",
       "48600   2021-03-01\n",
       "48601   2021-03-01\n",
       "48602   2021-03-01\n",
       "48603   2021-03-01\n",
       "48604   2021-03-01\n",
       "Name: first_reg_date, Length: 48605, dtype: datetime64[ns]"
      ]
     },
     "execution_count": 69,
     "metadata": {},
     "output_type": "execute_result"
    }
   ],
   "source": [
    "car_df.first_reg_date"
   ]
  },
  {
   "cell_type": "code",
   "execution_count": 43,
   "metadata": {},
   "outputs": [
    {
     "name": "stdout",
     "output_type": "stream",
     "text": [
      "<class 'pandas.core.frame.DataFrame'>\n",
      "RangeIndex: 48605 entries, 0 to 48604\n",
      "Data columns (total 5 columns):\n",
      " #   Column          Non-Null Count  Dtype         \n",
      "---  ------          --------------  -----         \n",
      " 0   VRN             48605 non-null  object        \n",
      " 1   fuelType        48605 non-null  category      \n",
      " 2   first_reg_date  48605 non-null  object        \n",
      " 3   country_code    48605 non-null  category      \n",
      " 4   date            48605 non-null  datetime64[ns]\n",
      "dtypes: category(2), datetime64[ns](1), object(2)\n",
      "memory usage: 1.2+ MB\n"
     ]
    }
   ],
   "source": [
    "car_df.info()"
   ]
  },
  {
   "cell_type": "code",
   "execution_count": 44,
   "metadata": {},
   "outputs": [
    {
     "data": {
      "text/plain": [
       "0       2020-03-01\n",
       "1       2020-03-01\n",
       "2       2020-03-01\n",
       "3       2020-03-01\n",
       "4       2020-03-01\n",
       "           ...    \n",
       "48600   2021-03-01\n",
       "48601   2021-03-01\n",
       "48602   2021-03-01\n",
       "48603   2021-03-01\n",
       "48604   2021-03-01\n",
       "Name: date, Length: 48605, dtype: datetime64[ns]"
      ]
     },
     "execution_count": 44,
     "metadata": {},
     "output_type": "execute_result"
    }
   ],
   "source": [
    "car_df['date']"
   ]
  },
  {
   "cell_type": "code",
   "execution_count": 54,
   "metadata": {},
   "outputs": [
    {
     "data": {
      "text/plain": [
       "array(['2020-03-01', '2020-03-01', '2020-03-01', ..., '2021-03-01',\n",
       "       '2021-03-01', '2021-03-01'], dtype=object)"
      ]
     },
     "execution_count": 54,
     "metadata": {},
     "output_type": "execute_result"
    }
   ],
   "source": [
    "car_df['date'].dt.strftime('%Y-%m-%d').values"
   ]
  },
  {
   "cell_type": "code",
   "execution_count": 31,
   "metadata": {},
   "outputs": [
    {
     "data": {
      "image/png": "[encoded data removed]",
      "text/plain": [
       "<Figure size 720x720 with 1 Axes>"
      ]
     },
     "metadata": {
      "needs_background": "light"
     },
     "output_type": "display_data"
    }
   ],
   "source": [
    "fig = plt.figure(figsize=(10,10))\n",
    "sns.countplot(x='date', data=car_df)\n",
    "plt.xticks(rotation=45, ha='right');"
   ]
  },
  {
   "cell_type": "markdown",
   "metadata": {},
   "source": [
    "First, we’d like to know how many vehicles of each fuel type were registered in each region of Northern Ireland per month. Second, we’d like to know how many vehicles of each fuel type have been registered in each month in Northern Ireland. "
   ]
  },
  {
   "cell_type": "code",
   "execution_count": 32,
   "metadata": {},
   "outputs": [
    {
     "data": {
      "text/html": [
       "<div>\n",
       "<style scoped>\n",
       "    .dataframe tbody tr th:only-of-type {\n",
       "        vertical-align: middle;\n",
       "    }\n",
       "\n",
       "    .dataframe tbody tr th {\n",
       "        vertical-align: top;\n",
       "    }\n",
       "\n",
       "    .dataframe thead th {\n",
       "        text-align: right;\n",
       "    }\n",
       "</style>\n",
       "<table border=\"1\" class=\"dataframe\">\n",
       "  <thead>\n",
       "    <tr style=\"text-align: right;\">\n",
       "      <th></th>\n",
       "      <th>country_code</th>\n",
       "      <th>Antrim</th>\n",
       "      <th>Armagh</th>\n",
       "      <th>Belfast</th>\n",
       "      <th>City of Londonderry</th>\n",
       "      <th>County Londonderry</th>\n",
       "      <th>Down</th>\n",
       "      <th>Fermanagh</th>\n",
       "      <th>Tyrone</th>\n",
       "    </tr>\n",
       "    <tr>\n",
       "      <th>fuelType</th>\n",
       "      <th>date</th>\n",
       "      <th></th>\n",
       "      <th></th>\n",
       "      <th></th>\n",
       "      <th></th>\n",
       "      <th></th>\n",
       "      <th></th>\n",
       "      <th></th>\n",
       "      <th></th>\n",
       "    </tr>\n",
       "  </thead>\n",
       "  <tbody>\n",
       "    <tr>\n",
       "      <th rowspan=\"5\" valign=\"top\">Diesel</th>\n",
       "      <th>2020-03-01</th>\n",
       "      <td>274</td>\n",
       "      <td>194</td>\n",
       "      <td>584</td>\n",
       "      <td>70</td>\n",
       "      <td>136</td>\n",
       "      <td>198</td>\n",
       "      <td>158</td>\n",
       "      <td>162</td>\n",
       "    </tr>\n",
       "    <tr>\n",
       "      <th>2020-04-01</th>\n",
       "      <td>25</td>\n",
       "      <td>20</td>\n",
       "      <td>18</td>\n",
       "      <td>3</td>\n",
       "      <td>8</td>\n",
       "      <td>12</td>\n",
       "      <td>6</td>\n",
       "      <td>15</td>\n",
       "    </tr>\n",
       "    <tr>\n",
       "      <th>2020-05-01</th>\n",
       "      <td>26</td>\n",
       "      <td>45</td>\n",
       "      <td>60</td>\n",
       "      <td>14</td>\n",
       "      <td>18</td>\n",
       "      <td>26</td>\n",
       "      <td>16</td>\n",
       "      <td>20</td>\n",
       "    </tr>\n",
       "    <tr>\n",
       "      <th>2020-06-01</th>\n",
       "      <td>178</td>\n",
       "      <td>195</td>\n",
       "      <td>513</td>\n",
       "      <td>57</td>\n",
       "      <td>113</td>\n",
       "      <td>155</td>\n",
       "      <td>123</td>\n",
       "      <td>167</td>\n",
       "    </tr>\n",
       "    <tr>\n",
       "      <th>2020-07-01</th>\n",
       "      <td>222</td>\n",
       "      <td>217</td>\n",
       "      <td>654</td>\n",
       "      <td>78</td>\n",
       "      <td>157</td>\n",
       "      <td>163</td>\n",
       "      <td>143</td>\n",
       "      <td>167</td>\n",
       "    </tr>\n",
       "    <tr>\n",
       "      <th>...</th>\n",
       "      <th>...</th>\n",
       "      <td>...</td>\n",
       "      <td>...</td>\n",
       "      <td>...</td>\n",
       "      <td>...</td>\n",
       "      <td>...</td>\n",
       "      <td>...</td>\n",
       "      <td>...</td>\n",
       "      <td>...</td>\n",
       "    </tr>\n",
       "    <tr>\n",
       "      <th rowspan=\"5\" valign=\"top\">Pure electric</th>\n",
       "      <th>2020-11-01</th>\n",
       "      <td>21</td>\n",
       "      <td>12</td>\n",
       "      <td>69</td>\n",
       "      <td>5</td>\n",
       "      <td>9</td>\n",
       "      <td>14</td>\n",
       "      <td>11</td>\n",
       "      <td>6</td>\n",
       "    </tr>\n",
       "    <tr>\n",
       "      <th>2020-12-01</th>\n",
       "      <td>15</td>\n",
       "      <td>13</td>\n",
       "      <td>152</td>\n",
       "      <td>2</td>\n",
       "      <td>15</td>\n",
       "      <td>16</td>\n",
       "      <td>19</td>\n",
       "      <td>15</td>\n",
       "    </tr>\n",
       "    <tr>\n",
       "      <th>2021-01-01</th>\n",
       "      <td>19</td>\n",
       "      <td>9</td>\n",
       "      <td>56</td>\n",
       "      <td>3</td>\n",
       "      <td>4</td>\n",
       "      <td>20</td>\n",
       "      <td>14</td>\n",
       "      <td>16</td>\n",
       "    </tr>\n",
       "    <tr>\n",
       "      <th>2021-02-01</th>\n",
       "      <td>20</td>\n",
       "      <td>8</td>\n",
       "      <td>60</td>\n",
       "      <td>0</td>\n",
       "      <td>2</td>\n",
       "      <td>9</td>\n",
       "      <td>7</td>\n",
       "      <td>6</td>\n",
       "    </tr>\n",
       "    <tr>\n",
       "      <th>2021-03-01</th>\n",
       "      <td>25</td>\n",
       "      <td>31</td>\n",
       "      <td>168</td>\n",
       "      <td>6</td>\n",
       "      <td>14</td>\n",
       "      <td>26</td>\n",
       "      <td>16</td>\n",
       "      <td>11</td>\n",
       "    </tr>\n",
       "  </tbody>\n",
       "</table>\n",
       "<p>65 rows × 8 columns</p>\n",
       "</div>"
      ],
      "text/plain": [
       "country_code              Antrim  Armagh  Belfast  City of Londonderry  \\\n",
       "fuelType      date                                                       \n",
       "Diesel        2020-03-01     274     194      584                   70   \n",
       "              2020-04-01      25      20       18                    3   \n",
       "              2020-05-01      26      45       60                   14   \n",
       "              2020-06-01     178     195      513                   57   \n",
       "              2020-07-01     222     217      654                   78   \n",
       "...                          ...     ...      ...                  ...   \n",
       "Pure electric 2020-11-01      21      12       69                    5   \n",
       "              2020-12-01      15      13      152                    2   \n",
       "              2021-01-01      19       9       56                    3   \n",
       "              2021-02-01      20       8       60                    0   \n",
       "              2021-03-01      25      31      168                    6   \n",
       "\n",
       "country_code              County Londonderry  Down  Fermanagh  Tyrone  \n",
       "fuelType      date                                                     \n",
       "Diesel        2020-03-01                 136   198        158     162  \n",
       "              2020-04-01                   8    12          6      15  \n",
       "              2020-05-01                  18    26         16      20  \n",
       "              2020-06-01                 113   155        123     167  \n",
       "              2020-07-01                 157   163        143     167  \n",
       "...                                      ...   ...        ...     ...  \n",
       "Pure electric 2020-11-01                   9    14         11       6  \n",
       "              2020-12-01                  15    16         19      15  \n",
       "              2021-01-01                   4    20         14      16  \n",
       "              2021-02-01                   2     9          7       6  \n",
       "              2021-03-01                  14    26         16      11  \n",
       "\n",
       "[65 rows x 8 columns]"
      ]
     },
     "execution_count": 32,
     "metadata": {},
     "output_type": "execute_result"
    }
   ],
   "source": [
    "car_pivot_1 = pd.pivot_table(car_df, index=['fuelType','date'], columns='country_code', aggfunc='count')['VRN']\n",
    "car_pivot_1"
   ]
  },
  {
   "cell_type": "code",
   "execution_count": 33,
   "metadata": {},
   "outputs": [
    {
     "data": {
      "text/html": [
       "<div>\n",
       "<style scoped>\n",
       "    .dataframe tbody tr th:only-of-type {\n",
       "        vertical-align: middle;\n",
       "    }\n",
       "\n",
       "    .dataframe tbody tr th {\n",
       "        vertical-align: top;\n",
       "    }\n",
       "\n",
       "    .dataframe thead th {\n",
       "        text-align: right;\n",
       "    }\n",
       "</style>\n",
       "<table border=\"1\" class=\"dataframe\">\n",
       "  <thead>\n",
       "    <tr style=\"text-align: right;\">\n",
       "      <th>date</th>\n",
       "      <th>2020-03-01</th>\n",
       "      <th>2020-04-01</th>\n",
       "      <th>2020-05-01</th>\n",
       "      <th>2020-06-01</th>\n",
       "      <th>2020-07-01</th>\n",
       "      <th>2020-08-01</th>\n",
       "      <th>2020-09-01</th>\n",
       "      <th>2020-10-01</th>\n",
       "      <th>2020-11-01</th>\n",
       "      <th>2020-12-01</th>\n",
       "      <th>2021-01-01</th>\n",
       "      <th>2021-02-01</th>\n",
       "      <th>2021-03-01</th>\n",
       "    </tr>\n",
       "    <tr>\n",
       "      <th>fuelType</th>\n",
       "      <th></th>\n",
       "      <th></th>\n",
       "      <th></th>\n",
       "      <th></th>\n",
       "      <th></th>\n",
       "      <th></th>\n",
       "      <th></th>\n",
       "      <th></th>\n",
       "      <th></th>\n",
       "      <th></th>\n",
       "      <th></th>\n",
       "      <th></th>\n",
       "      <th></th>\n",
       "    </tr>\n",
       "  </thead>\n",
       "  <tbody>\n",
       "    <tr>\n",
       "      <th>Diesel</th>\n",
       "      <td>1776.0</td>\n",
       "      <td>107.0</td>\n",
       "      <td>225.0</td>\n",
       "      <td>1501.0</td>\n",
       "      <td>1801.0</td>\n",
       "      <td>1741.0</td>\n",
       "      <td>2001.0</td>\n",
       "      <td>1359.0</td>\n",
       "      <td>1156.0</td>\n",
       "      <td>591.0</td>\n",
       "      <td>1175.0</td>\n",
       "      <td>1227.0</td>\n",
       "      <td>2173.0</td>\n",
       "    </tr>\n",
       "    <tr>\n",
       "      <th>Gas</th>\n",
       "      <td>1.0</td>\n",
       "      <td>NaN</td>\n",
       "      <td>NaN</td>\n",
       "      <td>3.0</td>\n",
       "      <td>NaN</td>\n",
       "      <td>6.0</td>\n",
       "      <td>14.0</td>\n",
       "      <td>4.0</td>\n",
       "      <td>5.0</td>\n",
       "      <td>2.0</td>\n",
       "      <td>7.0</td>\n",
       "      <td>3.0</td>\n",
       "      <td>9.0</td>\n",
       "    </tr>\n",
       "    <tr>\n",
       "      <th>Hybrid</th>\n",
       "      <td>411.0</td>\n",
       "      <td>NaN</td>\n",
       "      <td>14.0</td>\n",
       "      <td>404.0</td>\n",
       "      <td>641.0</td>\n",
       "      <td>483.0</td>\n",
       "      <td>753.0</td>\n",
       "      <td>596.0</td>\n",
       "      <td>543.0</td>\n",
       "      <td>279.0</td>\n",
       "      <td>525.0</td>\n",
       "      <td>468.0</td>\n",
       "      <td>981.0</td>\n",
       "    </tr>\n",
       "    <tr>\n",
       "      <th>Petrol</th>\n",
       "      <td>2178.0</td>\n",
       "      <td>33.0</td>\n",
       "      <td>216.0</td>\n",
       "      <td>2168.0</td>\n",
       "      <td>2933.0</td>\n",
       "      <td>2317.0</td>\n",
       "      <td>3192.0</td>\n",
       "      <td>1984.0</td>\n",
       "      <td>1819.0</td>\n",
       "      <td>1139.0</td>\n",
       "      <td>1323.0</td>\n",
       "      <td>1623.0</td>\n",
       "      <td>2758.0</td>\n",
       "    </tr>\n",
       "    <tr>\n",
       "      <th>Pure electric</th>\n",
       "      <td>119.0</td>\n",
       "      <td>11.0</td>\n",
       "      <td>50.0</td>\n",
       "      <td>120.0</td>\n",
       "      <td>147.0</td>\n",
       "      <td>141.0</td>\n",
       "      <td>268.0</td>\n",
       "      <td>137.0</td>\n",
       "      <td>147.0</td>\n",
       "      <td>247.0</td>\n",
       "      <td>141.0</td>\n",
       "      <td>112.0</td>\n",
       "      <td>297.0</td>\n",
       "    </tr>\n",
       "  </tbody>\n",
       "</table>\n",
       "</div>"
      ],
      "text/plain": [
       "date           2020-03-01  2020-04-01  2020-05-01  2020-06-01  2020-07-01  \\\n",
       "fuelType                                                                    \n",
       "Diesel             1776.0       107.0       225.0      1501.0      1801.0   \n",
       "Gas                   1.0         NaN         NaN         3.0         NaN   \n",
       "Hybrid              411.0         NaN        14.0       404.0       641.0   \n",
       "Petrol             2178.0        33.0       216.0      2168.0      2933.0   \n",
       "Pure electric       119.0        11.0        50.0       120.0       147.0   \n",
       "\n",
       "date           2020-08-01  2020-09-01  2020-10-01  2020-11-01  2020-12-01  \\\n",
       "fuelType                                                                    \n",
       "Diesel             1741.0      2001.0      1359.0      1156.0       591.0   \n",
       "Gas                   6.0        14.0         4.0         5.0         2.0   \n",
       "Hybrid              483.0       753.0       596.0       543.0       279.0   \n",
       "Petrol             2317.0      3192.0      1984.0      1819.0      1139.0   \n",
       "Pure electric       141.0       268.0       137.0       147.0       247.0   \n",
       "\n",
       "date           2021-01-01  2021-02-01  2021-03-01  \n",
       "fuelType                                           \n",
       "Diesel             1175.0      1227.0      2173.0  \n",
       "Gas                   7.0         3.0         9.0  \n",
       "Hybrid              525.0       468.0       981.0  \n",
       "Petrol             1323.0      1623.0      2758.0  \n",
       "Pure electric       141.0       112.0       297.0  "
      ]
     },
     "execution_count": 33,
     "metadata": {},
     "output_type": "execute_result"
    }
   ],
   "source": [
    "car_pivot_2 = pd.pivot_table(car_df, index='fuelType', columns='date', aggfunc='count')['VRN']\n",
    "car_pivot_2"
   ]
  },
  {
   "cell_type": "code",
   "execution_count": 93,
   "metadata": {},
   "outputs": [
    {
     "data": {
      "text/plain": [
       "Index(['2020-03-01', '2020-04-01', '2020-05-01', '2020-06-01', '2020-07-01',\n",
       "       '2020-08-01', '2020-09-01', '2020-10-01', '2020-11-01', '2020-12-01',\n",
       "       '2021-01-01', '2021-02-01', '2021-03-01'],\n",
       "      dtype='object', name='date')"
      ]
     },
     "execution_count": 93,
     "metadata": {},
     "output_type": "execute_result"
    }
   ],
   "source": [
    "car_pivot_2.columns"
   ]
  },
  {
   "cell_type": "code",
   "execution_count": 92,
   "metadata": {},
   "outputs": [
    {
     "data": {
      "text/plain": [
       "CategoricalIndex(['Diesel', 'Gas', 'Hybrid', 'Petrol', 'Pure electric'], categories=['Diesel', 'Gas', 'Hybrid', 'Petrol', 'Pure electric'], ordered=False, name='fuelType', dtype='category')"
      ]
     },
     "execution_count": 92,
     "metadata": {},
     "output_type": "execute_result"
    }
   ],
   "source": [
    "car_pivot_2.index"
   ]
  },
  {
   "cell_type": "code",
   "execution_count": 102,
   "metadata": {},
   "outputs": [
    {
     "data": {
      "text/plain": [
       "<AxesSubplot:xlabel='fuelType'>"
      ]
     },
     "execution_count": 102,
     "metadata": {},
     "output_type": "execute_result"
    },
    {
     "data": {
      "image/png": "[encoded data removed]",
      "text/plain": [
       "<Figure size 432x288 with 1 Axes>"
      ]
     },
     "metadata": {
      "needs_background": "light"
     },
     "output_type": "display_data"
    }
   ],
   "source": [
    "car_pivot_2.plot(kind='bar')"
   ]
  }
 ],
 "metadata": {
  "kernelspec": {
   "display_name": "new_auto_venv",
   "language": "python",
   "name": "new_auto_venv"
  },
  "language_info": {
   "codemirror_mode": {
    "name": "ipython",
    "version": 3
   },
   "file_extension": ".py",
   "mimetype": "text/x-python",
   "name": "python",
   "nbconvert_exporter": "python",
   "pygments_lexer": "ipython3",
   "version": "3.9.1"
  }
 },
 "nbformat": 4,
 "nbformat_minor": 4
}
